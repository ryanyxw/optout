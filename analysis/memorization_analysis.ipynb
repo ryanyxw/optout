{
 "cells": [
  {
   "cell_type": "code",
   "execution_count": 26,
   "id": "aaad39f8",
   "metadata": {},
   "outputs": [],
   "source": [
    "import numpy as np\n",
    "import pandas as pd\n",
    "import seaborn as sns\n",
    "sns.set()"
   ]
  },
  {
   "cell_type": "code",
   "execution_count": 2,
   "id": "8f6225bd",
   "metadata": {},
   "outputs": [],
   "source": [
    "train_fn = '../out/memorization/head_train_scored.csv'\n",
    "valid_fn = '../out/memorization/head_val_scored.csv'"
   ]
  },
  {
   "cell_type": "code",
   "execution_count": 35,
   "id": "7345675e",
   "metadata": {},
   "outputs": [
    {
     "data": {
      "text/html": [
       "<div>\n",
       "<style scoped>\n",
       "    .dataframe tbody tr th:only-of-type {\n",
       "        vertical-align: middle;\n",
       "    }\n",
       "\n",
       "    .dataframe tbody tr th {\n",
       "        vertical-align: top;\n",
       "    }\n",
       "\n",
       "    .dataframe thead th {\n",
       "        text-align: right;\n",
       "    }\n",
       "</style>\n",
       "<table border=\"1\" class=\"dataframe\">\n",
       "  <thead>\n",
       "    <tr style=\"text-align: right;\">\n",
       "      <th></th>\n",
       "      <th>line</th>\n",
       "      <th>prefix</th>\n",
       "      <th>suffix</th>\n",
       "      <th>generated</th>\n",
       "    </tr>\n",
       "  </thead>\n",
       "  <tbody>\n",
       "    <tr>\n",
       "      <th>0</th>\n",
       "      <td>0</td>\n",
       "      <td>It is done, and submitted. You can play “Survi...</td>\n",
       "      <td>mutations over time, with the most apt permut...</td>\n",
       "      <td>events, and the player has no control over it...</td>\n",
       "    </tr>\n",
       "    <tr>\n",
       "      <th>1</th>\n",
       "      <td>1</td>\n",
       "      <td>&lt;?xml version=\"1.0\" encoding=\"UTF-8\"?&gt;\\n &lt;segm...</td>\n",
       "      <td>&gt;PD1.2&lt;/name&gt;\\n             &lt;description&gt;Livin...</td>\n",
       "      <td>&gt;PD1.2&lt;/name&gt;\\n</td>\n",
       "    </tr>\n",
       "    <tr>\n",
       "      <th>2</th>\n",
       "      <td>2</td>\n",
       "      <td>Article content  Human behavior has a tremendo...</td>\n",
       "      <td>buy at or near market tops for fear of not do...</td>\n",
       "      <td>chase the same trends.  “The market is a herd...</td>\n",
       "    </tr>\n",
       "    <tr>\n",
       "      <th>4</th>\n",
       "      <td>4</td>\n",
       "      <td>About Grand Slam Fishing Charters  As a family...</td>\n",
       "      <td>their own personalities and sense of humour a...</td>\n",
       "      <td>their own specialties and are always willing ...</td>\n",
       "    </tr>\n",
       "    <tr>\n",
       "      <th>5</th>\n",
       "      <td>5</td>\n",
       "      <td>Q:  Why was Mundungus banned from the Hog's He...</td>\n",
       "      <td>maybe Dung was trading with Aberforth, Sirius...</td>\n",
       "      <td>it's possible that Dung was banned for someth...</td>\n",
       "    </tr>\n",
       "  </tbody>\n",
       "</table>\n",
       "</div>"
      ],
      "text/plain": [
       "   line                                             prefix  \\\n",
       "0     0  It is done, and submitted. You can play “Survi...   \n",
       "1     1  <?xml version=\"1.0\" encoding=\"UTF-8\"?>\\n <segm...   \n",
       "2     2  Article content  Human behavior has a tremendo...   \n",
       "4     4  About Grand Slam Fishing Charters  As a family...   \n",
       "5     5  Q:  Why was Mundungus banned from the Hog's He...   \n",
       "\n",
       "                                              suffix  \\\n",
       "0   mutations over time, with the most apt permut...   \n",
       "1  >PD1.2</name>\\n             <description>Livin...   \n",
       "2   buy at or near market tops for fear of not do...   \n",
       "4   their own personalities and sense of humour a...   \n",
       "5   maybe Dung was trading with Aberforth, Sirius...   \n",
       "\n",
       "                                           generated  \n",
       "0   events, and the player has no control over it...  \n",
       "1                         >PD1.2</name>\\n             \n",
       "2   chase the same trends.  “The market is a herd...  \n",
       "4   their own specialties and are always willing ...  \n",
       "5   it's possible that Dung was banned for someth...  "
      ]
     },
     "execution_count": 35,
     "metadata": {},
     "output_type": "execute_result"
    }
   ],
   "source": [
    "train_df = pd.read_csv(train_fn, header=[0])\n",
    "train_df = train_df[~train_df.suffix.isna()]\n",
    "train_df.head()"
   ]
  },
  {
   "cell_type": "code",
   "execution_count": 36,
   "id": "56b53027",
   "metadata": {},
   "outputs": [
    {
     "data": {
      "text/html": [
       "<div>\n",
       "<style scoped>\n",
       "    .dataframe tbody tr th:only-of-type {\n",
       "        vertical-align: middle;\n",
       "    }\n",
       "\n",
       "    .dataframe tbody tr th {\n",
       "        vertical-align: top;\n",
       "    }\n",
       "\n",
       "    .dataframe thead th {\n",
       "        text-align: right;\n",
       "    }\n",
       "</style>\n",
       "<table border=\"1\" class=\"dataframe\">\n",
       "  <thead>\n",
       "    <tr style=\"text-align: right;\">\n",
       "      <th></th>\n",
       "      <th>line</th>\n",
       "      <th>prefix</th>\n",
       "      <th>suffix</th>\n",
       "      <th>generated</th>\n",
       "    </tr>\n",
       "  </thead>\n",
       "  <tbody>\n",
       "    <tr>\n",
       "      <th>0</th>\n",
       "      <td>0</td>\n",
       "      <td>Catalonia election: Puigdemont calls for talks...</td>\n",
       "      <td>'s biggest party. although pro-independence pa...</td>\n",
       "      <td>'s biggest party.  Mr Puigdemont's party, Junt...</td>\n",
       "    </tr>\n",
       "    <tr>\n",
       "      <th>1</th>\n",
       "      <td>1</td>\n",
       "      <td>Wirex, a prominent UK’s FCA supported cryptocu...</td>\n",
       "      <td>cross-border remittance, just like the IBM St...</td>\n",
       "      <td>remittance services.  The stablecoins will be...</td>\n",
       "    </tr>\n",
       "    <tr>\n",
       "      <th>2</th>\n",
       "      <td>2</td>\n",
       "      <td>Effect of sleep quality on memory, executive f...</td>\n",
       "      <td>objective and subjective sleep parameters amo...</td>\n",
       "      <td>groups in terms of sleep quality, sleep laten...</td>\n",
       "    </tr>\n",
       "    <tr>\n",
       "      <th>4</th>\n",
       "      <td>4</td>\n",
       "      <td>Fluorescent labeling of both GABAergic and gly...</td>\n",
       "      <td>. We found higher expression level of Venus tr...</td>\n",
       "      <td>. The expression of Venus was observed in the ...</td>\n",
       "    </tr>\n",
       "    <tr>\n",
       "      <th>5</th>\n",
       "      <td>5</td>\n",
       "      <td>Q:  How to avoid anti-clockwise rotation anima...</td>\n",
       "      <td>-webkit-box-sizing: border-box;     -moz-box...</td>\n",
       "      <td></td>\n",
       "    </tr>\n",
       "  </tbody>\n",
       "</table>\n",
       "</div>"
      ],
      "text/plain": [
       "   line                                             prefix  \\\n",
       "0     0  Catalonia election: Puigdemont calls for talks...   \n",
       "1     1  Wirex, a prominent UK’s FCA supported cryptocu...   \n",
       "2     2  Effect of sleep quality on memory, executive f...   \n",
       "4     4  Fluorescent labeling of both GABAergic and gly...   \n",
       "5     5  Q:  How to avoid anti-clockwise rotation anima...   \n",
       "\n",
       "                                              suffix  \\\n",
       "0  's biggest party. although pro-independence pa...   \n",
       "1   cross-border remittance, just like the IBM St...   \n",
       "2   objective and subjective sleep parameters amo...   \n",
       "4  . We found higher expression level of Venus tr...   \n",
       "5    -webkit-box-sizing: border-box;     -moz-box...   \n",
       "\n",
       "                                           generated  \n",
       "0  's biggest party.  Mr Puigdemont's party, Junt...  \n",
       "1   remittance services.  The stablecoins will be...  \n",
       "2   groups in terms of sleep quality, sleep laten...  \n",
       "4  . The expression of Venus was observed in the ...  \n",
       "5                                                     "
      ]
     },
     "execution_count": 36,
     "metadata": {},
     "output_type": "execute_result"
    }
   ],
   "source": [
    "valid_df = pd.read_csv(valid_fn, header=[0])\n",
    "valid_df = valid_df[~valid_df.suffix.isna()]\n",
    "valid_df.head()"
   ]
  },
  {
   "cell_type": "code",
   "execution_count": 37,
   "id": "032f2a69",
   "metadata": {},
   "outputs": [
    {
     "data": {
      "text/plain": [
       "(15675, 10680)"
      ]
     },
     "execution_count": 37,
     "metadata": {},
     "output_type": "execute_result"
    }
   ],
   "source": [
    "len(train_df), len(valid_df)"
   ]
  },
  {
   "cell_type": "code",
   "execution_count": 38,
   "id": "09515fa6",
   "metadata": {},
   "outputs": [],
   "source": [
    "from transformers import AutoModelForCausalLM, AutoTokenizer\n",
    "model_name = 'EleutherAI/gpt-j-6B'\n",
    "tokenizer = AutoTokenizer.from_pretrained(model_name, truncation_side='left')"
   ]
  },
  {
   "cell_type": "code",
   "execution_count": 39,
   "id": "d945db60",
   "metadata": {},
   "outputs": [],
   "source": [
    "def get_prefix(l1, l2):\n",
    "    for i, j in enumerate(zip(l1, l2)):\n",
    "        if l1[i] != l2[i]:\n",
    "            break\n",
    "    return i\n",
    "\n",
    "def get_shared_prefix(df):\n",
    "    prefixes = []\n",
    "    for i, row in df.iterrows():\n",
    "        if type(row['suffix']) != str:\n",
    "            prefixes.append(0)\n",
    "            continue\n",
    "            \n",
    "        suffix, generated = tokenizer(row['suffix'])['input_ids'], tokenizer(row['generated'])['input_ids']\n",
    "        prefix = get_prefix(suffix, generated)\n",
    "        prefixes.append(prefix)\n",
    "    \n",
    "    return prefixes"
   ]
  },
  {
   "cell_type": "code",
   "execution_count": 40,
   "id": "2d563f57",
   "metadata": {},
   "outputs": [],
   "source": [
    "train_df['shared_prefix_len'] = get_shared_prefix(train_df)"
   ]
  },
  {
   "cell_type": "code",
   "execution_count": 41,
   "id": "bef038b8",
   "metadata": {},
   "outputs": [],
   "source": [
    "valid_df['shared_prefix_len'] = get_shared_prefix(valid_df)"
   ]
  },
  {
   "cell_type": "code",
   "execution_count": 42,
   "id": "54c20a48",
   "metadata": {},
   "outputs": [
    {
     "data": {
      "text/plain": [
       "(2.5340350877192983, 0.03593540820439648)"
      ]
     },
     "execution_count": 42,
     "metadata": {},
     "output_type": "execute_result"
    }
   ],
   "source": [
    "train_df['shared_prefix_len'].mean(), train_df['shared_prefix_len'].sem()"
   ]
  },
  {
   "cell_type": "code",
   "execution_count": 43,
   "id": "db947748",
   "metadata": {},
   "outputs": [
    {
     "data": {
      "text/plain": [
       "(2.493071161048689, 0.04290424695920665)"
      ]
     },
     "execution_count": 43,
     "metadata": {},
     "output_type": "execute_result"
    }
   ],
   "source": [
    "valid_df['shared_prefix_len'].mean(), valid_df['shared_prefix_len'].sem()"
   ]
  },
  {
   "cell_type": "code",
   "execution_count": 54,
   "id": "5c4898c1",
   "metadata": {},
   "outputs": [
    {
     "data": {
      "text/plain": [
       "0.3663157894736842"
      ]
     },
     "execution_count": 54,
     "metadata": {},
     "output_type": "execute_result"
    }
   ],
   "source": [
    "np.sum(train_df['shared_prefix_len'] > 1) / len(train_df)"
   ]
  },
  {
   "cell_type": "code",
   "execution_count": 55,
   "id": "80c7f02f",
   "metadata": {},
   "outputs": [
    {
     "data": {
      "text/plain": [
       "0.003848225273805538"
      ]
     },
     "execution_count": 55,
     "metadata": {},
     "output_type": "execute_result"
    }
   ],
   "source": [
    "np.std(train_df['shared_prefix_len'] > 1) / np.sqrt(len(train_df))"
   ]
  },
  {
   "cell_type": "code",
   "execution_count": 56,
   "id": "35244b2a",
   "metadata": {},
   "outputs": [
    {
     "data": {
      "text/plain": [
       "0.36170411985018724"
      ]
     },
     "execution_count": 56,
     "metadata": {},
     "output_type": "execute_result"
    }
   ],
   "source": [
    "np.sum(valid_df['shared_prefix_len'] > 1) / len(valid_df)"
   ]
  },
  {
   "cell_type": "code",
   "execution_count": 49,
   "id": "ae0aa6a1",
   "metadata": {},
   "outputs": [
    {
     "data": {
      "text/plain": [
       "<seaborn.axisgrid.FacetGrid at 0x7f6fb2188280>"
      ]
     },
     "execution_count": 49,
     "metadata": {},
     "output_type": "execute_result"
    },
    {
     "data": {
      "image/png": "[encoded data removed]",
      "text/plain": [
       "<Figure size 500x500 with 1 Axes>"
      ]
     },
     "metadata": {},
     "output_type": "display_data"
    },
    {
     "data": {
      "image/png": "[encoded data removed]",
      "text/plain": [
       "<Figure size 500x500 with 1 Axes>"
      ]
     },
     "metadata": {},
     "output_type": "display_data"
    }
   ],
   "source": [
    "sns.displot(train_df['shared_prefix_len'], label='train')\n",
    "sns.displot(valid_df['shared_prefix_len'], label='valid')"
   ]
  }
 ],
 "metadata": {
  "kernelspec": {
   "display_name": "Python 3 (ipykernel)",
   "language": "python",
   "name": "python3"
  },
  "language_info": {
   "codemirror_mode": {
    "name": "ipython",
    "version": 3
   },
   "file_extension": ".py",
   "mimetype": "text/x-python",
   "name": "python",
   "nbconvert_exporter": "python",
   "pygments_lexer": "ipython3",
   "version": "3.10.11"
  }
 },
 "nbformat": 4,
 "nbformat_minor": 5
}
