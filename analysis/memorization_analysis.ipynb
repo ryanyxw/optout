{
 "cells": [
  {
   "cell_type": "code",
   "execution_count": 41,
   "id": "aaad39f8",
   "metadata": {},
   "outputs": [],
   "source": [
    "import numpy as np\n",
    "import pandas as pd\n",
    "\n",
    "from transformers import AutoModelForCausalLM, AutoTokenizer"
   ]
  },
  {
   "cell_type": "code",
   "execution_count": 73,
   "id": "8f6225bd",
   "metadata": {},
   "outputs": [],
   "source": [
    "train_fn = '../out/memorization/head_val_scored.csv'\n",
    "model_name = 'EleutherAI/gpt-j-6B'\n",
    "gen_length = 20"
   ]
  },
  {
   "cell_type": "code",
   "execution_count": 42,
   "id": "64c8ecda",
   "metadata": {},
   "outputs": [],
   "source": [
    "tokenizer = AutoTokenizer.from_pretrained(model_name, truncation_side='left')"
   ]
  },
  {
   "cell_type": "code",
   "execution_count": 59,
   "id": "7345675e",
   "metadata": {},
   "outputs": [
    {
     "data": {
      "text/html": [
       "<div>\n",
       "<style scoped>\n",
       "    .dataframe tbody tr th:only-of-type {\n",
       "        vertical-align: middle;\n",
       "    }\n",
       "\n",
       "    .dataframe tbody tr th {\n",
       "        vertical-align: top;\n",
       "    }\n",
       "\n",
       "    .dataframe thead th {\n",
       "        text-align: right;\n",
       "    }\n",
       "</style>\n",
       "<table border=\"1\" class=\"dataframe\">\n",
       "  <thead>\n",
       "    <tr style=\"text-align: right;\">\n",
       "      <th></th>\n",
       "      <th>line</th>\n",
       "      <th>prefix</th>\n",
       "      <th>suffix</th>\n",
       "      <th>generated</th>\n",
       "    </tr>\n",
       "  </thead>\n",
       "  <tbody>\n",
       "    <tr>\n",
       "      <th>0</th>\n",
       "      <td>0.0</td>\n",
       "      <td>Catalonia election: Puigdemont calls for talks...</td>\n",
       "      <td>'s biggest party. although pro-independence pa...</td>\n",
       "      <td>'s biggest party.\\n\\nThe Spanish government ha...</td>\n",
       "    </tr>\n",
       "  </tbody>\n",
       "</table>\n",
       "</div>"
      ],
      "text/plain": [
       "   line                                             prefix  \\\n",
       "0   0.0  Catalonia election: Puigdemont calls for talks...   \n",
       "\n",
       "                                              suffix  \\\n",
       "0  's biggest party. although pro-independence pa...   \n",
       "\n",
       "                                           generated  \n",
       "0  's biggest party.\\n\\nThe Spanish government ha...  "
      ]
     },
     "execution_count": 59,
     "metadata": {},
     "output_type": "execute_result"
    }
   ],
   "source": [
    "train_df = pd.read_csv(train_fn, header=[0])\n",
    "train_df.head(1)"
   ]
  },
  {
   "cell_type": "code",
   "execution_count": 60,
   "id": "921e961c",
   "metadata": {},
   "outputs": [],
   "source": [
    "train_df = train_df.dropna()"
   ]
  },
  {
   "cell_type": "code",
   "execution_count": 80,
   "id": "de67cd1f",
   "metadata": {},
   "outputs": [],
   "source": [
    "def common_prefix(l1, l2):\n",
    "    for i, item in enumerate(l1):\n",
    "        if l2[i] != l1[i]:\n",
    "            break\n",
    "    return i\n",
    "\n",
    "def overlap(l1, l2):\n",
    "    s1, s2 = set(l1), set(l2)\n",
    "    return s1.intersection(s2)"
   ]
  },
  {
   "cell_type": "code",
   "execution_count": 83,
   "id": "571b2f94",
   "metadata": {},
   "outputs": [],
   "source": [
    "prefix_len, overlap_len = [], []\n",
    "for i, row in train_df.iterrows():\n",
    "    ground_tokenized = tokenizer(row['suffix'])['input_ids'][:gen_length]\n",
    "    generated_tokenized = tokenizer(row['generated'])['input_ids']\n",
    "    \n",
    "    prefix_len.append(common_prefix(ground_tokenized, generated_tokenized))\n",
    "    \n",
    "    # you probably want to look at the overlap length as well\n",
    "    overlap_len.append(len(overlap(ground_tokenized, generated_tokenized)))"
   ]
  },
  {
   "cell_type": "code",
   "execution_count": null,
   "id": "91b3563d",
   "metadata": {},
   "outputs": [],
   "source": [
    "train_df['prefix_len'] = prefix_len\n",
    "train_df['overlap_len'] = overlap_len"
   ]
  }
 ],
 "metadata": {
  "kernelspec": {
   "display_name": "Python 3 (ipykernel)",
   "language": "python",
   "name": "python3"
  },
  "language_info": {
   "codemirror_mode": {
    "name": "ipython",
    "version": 3
   },
   "file_extension": ".py",
   "mimetype": "text/x-python",
   "name": "python",
   "nbconvert_exporter": "python",
   "pygments_lexer": "ipython3",
   "version": "3.10.11"
  }
 },
 "nbformat": 4,
 "nbformat_minor": 5
}
