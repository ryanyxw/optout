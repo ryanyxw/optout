{
 "cells": [
  {
   "cell_type": "code",
   "execution_count": 1,
   "id": "cbd696dd",
   "metadata": {},
   "outputs": [],
   "source": [
    "import numpy as np\n",
    "import pandas as pd"
   ]
  },
  {
   "cell_type": "code",
   "execution_count": 2,
   "id": "94afe2de",
   "metadata": {},
   "outputs": [],
   "source": [
    "train_fn = '../out/bighead/oxford_comma/head_train_scored.csv'\n",
    "valid_fn = '../out/bighead/oxford_comma/head_test_scored.csv'\n",
    "# train_fn = '../out/bighead/zero_that/train_scored.csv'\n",
    "# valid_fn = '../out/bighead/zero_that/test_scored.csv'\n",
    "toi = 11    # ,\n",
    "# toi = 326    # that"
   ]
  },
  {
   "cell_type": "code",
   "execution_count": 3,
   "id": "568b47cc",
   "metadata": {},
   "outputs": [
    {
     "data": {
      "text/html": [
       "<div>\n",
       "<style scoped>\n",
       "    .dataframe tbody tr th:only-of-type {\n",
       "        vertical-align: middle;\n",
       "    }\n",
       "\n",
       "    .dataframe tbody tr th {\n",
       "        vertical-align: top;\n",
       "    }\n",
       "\n",
       "    .dataframe thead th {\n",
       "        text-align: right;\n",
       "    }\n",
       "</style>\n",
       "<table border=\"1\" class=\"dataframe\">\n",
       "  <thead>\n",
       "    <tr style=\"text-align: right;\">\n",
       "      <th></th>\n",
       "      <th>line</th>\n",
       "      <th>prefix_tok_len</th>\n",
       "      <th>contains</th>\n",
       "      <th>probability</th>\n",
       "      <th>argmax</th>\n",
       "    </tr>\n",
       "  </thead>\n",
       "  <tbody>\n",
       "    <tr>\n",
       "      <th>0</th>\n",
       "      <td>14</td>\n",
       "      <td>144</td>\n",
       "      <td>True</td>\n",
       "      <td>0.00028</td>\n",
       "      <td>290</td>\n",
       "    </tr>\n",
       "  </tbody>\n",
       "</table>\n",
       "</div>"
      ],
      "text/plain": [
       "   line  prefix_tok_len  contains  probability  argmax\n",
       "0    14             144      True      0.00028     290"
      ]
     },
     "execution_count": 3,
     "metadata": {},
     "output_type": "execute_result"
    }
   ],
   "source": [
    "train_df = pd.read_csv(train_fn, names=['line', 'prefix_tok_len', 'contains', 'probability', 'argmax'])\n",
    "valid_df = pd.read_csv(valid_fn, names=['line', 'prefix_tok_len', 'contains', 'probability', 'argmax'])\n",
    "train_df.head(1)"
   ]
  },
  {
   "cell_type": "code",
   "execution_count": 4,
   "id": "23095413",
   "metadata": {},
   "outputs": [],
   "source": [
    "from transformers import AutoModelForCausalLM, AutoTokenizer\n",
    "tokenizer = AutoTokenizer.from_pretrained('EleutherAI/gpt-j-6B', truncation_side='left')"
   ]
  },
  {
   "cell_type": "code",
   "execution_count": 5,
   "id": "9a514ef6",
   "metadata": {},
   "outputs": [
    {
     "data": {
      "text/plain": [
       "', and<|endoftext|>.Âiaia'"
      ]
     },
     "execution_count": 5,
     "metadata": {},
     "output_type": "execute_result"
    }
   ],
   "source": [
    "tokenizer.decode([11, 290, 50256, 13, 5523, 544, 544])"
   ]
  },
  {
   "cell_type": "code",
   "execution_count": 6,
   "id": "e9f9df95",
   "metadata": {},
   "outputs": [
    {
     "data": {
      "text/plain": [
       "' it that I the you we'"
      ]
     },
     "execution_count": 6,
     "metadata": {},
     "output_type": "execute_result"
    }
   ],
   "source": [
    "tokenizer.decode([340, 326, 314, 262, 345, 356])"
   ]
  },
  {
   "cell_type": "code",
   "execution_count": 7,
   "id": "45f791d9",
   "metadata": {},
   "outputs": [],
   "source": [
    "train_df['argmax_is_comma'] = train_df.argmax == toi\n",
    "valid_df['argmax_is_comma'] = valid_df.argmax == toi"
   ]
  },
  {
   "cell_type": "code",
   "execution_count": 8,
   "id": "b3078d8e",
   "metadata": {},
   "outputs": [
    {
     "data": {
      "text/plain": [
       "(9999, 9999)"
      ]
     },
     "execution_count": 8,
     "metadata": {},
     "output_type": "execute_result"
    }
   ],
   "source": [
    "subset_train_df = train_df[train_df.prefix_tok_len > 50]\n",
    "subset_valid_df = valid_df[valid_df.prefix_tok_len > 50]\n",
    "len(train_df), len(valid_df)"
   ]
  },
  {
   "cell_type": "markdown",
   "id": "af406a88",
   "metadata": {},
   "source": [
    "# Summary statistics"
   ]
  },
  {
   "cell_type": "code",
   "execution_count": 9,
   "id": "8fdeea7b",
   "metadata": {},
   "outputs": [
    {
     "data": {
      "text/plain": [
       "11      6542\n",
       "290     2243\n",
       "393      273\n",
       "13        34\n",
       "286       19\n",
       "8         13\n",
       "220        9\n",
       "1222       6\n",
       "447        6\n",
       "82         6\n",
       "Name: argmax, dtype: int64"
      ]
     },
     "execution_count": 9,
     "metadata": {},
     "output_type": "execute_result"
    }
   ],
   "source": [
    "subset_train_df.argmax.value_counts()[:10]"
   ]
  },
  {
   "cell_type": "code",
   "execution_count": 10,
   "id": "802a5d87",
   "metadata": {},
   "outputs": [
    {
     "data": {
      "text/plain": [
       "False    0.578264\n",
       "True     0.421736\n",
       "Name: contains, dtype: float64"
      ]
     },
     "execution_count": 10,
     "metadata": {},
     "output_type": "execute_result"
    }
   ],
   "source": [
    "subset_train_df.contains.value_counts(normalize=True)"
   ]
  },
  {
   "cell_type": "code",
   "execution_count": 11,
   "id": "bad2e3e3",
   "metadata": {},
   "outputs": [
    {
     "data": {
      "text/plain": [
       "False    0.575441\n",
       "True     0.424559\n",
       "Name: contains, dtype: float64"
      ]
     },
     "execution_count": 11,
     "metadata": {},
     "output_type": "execute_result"
    }
   ],
   "source": [
    "subset_valid_df.contains.value_counts(normalize=True)"
   ]
  },
  {
   "cell_type": "markdown",
   "id": "b9dbeee2",
   "metadata": {},
   "source": [
    "# Analysis"
   ]
  },
  {
   "cell_type": "code",
   "execution_count": 12,
   "id": "0dea8109",
   "metadata": {},
   "outputs": [
    {
     "data": {
      "text/plain": [
       "(0.6386776510350655, 0.004936954759415384)"
      ]
     },
     "execution_count": 12,
     "metadata": {},
     "output_type": "execute_result"
    }
   ],
   "source": [
    "correctness = subset_train_df.argmax_is_comma == subset_train_df.contains\n",
    "np.mean(correctness), np.std(correctness)/np.sqrt(len(correctness))"
   ]
  },
  {
   "cell_type": "code",
   "execution_count": 13,
   "id": "20a0a4c2",
   "metadata": {},
   "outputs": [
    {
     "data": {
      "text/plain": [
       "(0.6417484954070319, 0.004926954172765392)"
      ]
     },
     "execution_count": 13,
     "metadata": {},
     "output_type": "execute_result"
    }
   ],
   "source": [
    "correctness = subset_valid_df.argmax_is_comma == subset_valid_df.contains\n",
    "np.mean(correctness), np.std(correctness)/np.sqrt(len(correctness))"
   ]
  },
  {
   "cell_type": "code",
   "execution_count": 14,
   "id": "22f915a0",
   "metadata": {
    "scrolled": true
   },
   "outputs": [
    {
     "data": {
      "text/html": [
       "<div>\n",
       "<style scoped>\n",
       "    .dataframe tbody tr th:only-of-type {\n",
       "        vertical-align: middle;\n",
       "    }\n",
       "\n",
       "    .dataframe tbody tr th {\n",
       "        vertical-align: top;\n",
       "    }\n",
       "\n",
       "    .dataframe thead th {\n",
       "        text-align: right;\n",
       "    }\n",
       "</style>\n",
       "<table border=\"1\" class=\"dataframe\">\n",
       "  <thead>\n",
       "    <tr style=\"text-align: right;\">\n",
       "      <th></th>\n",
       "      <th>line</th>\n",
       "      <th>prefix_tok_len</th>\n",
       "      <th>probability</th>\n",
       "      <th>argmax</th>\n",
       "      <th>argmax_is_comma</th>\n",
       "    </tr>\n",
       "    <tr>\n",
       "      <th>contains</th>\n",
       "      <th></th>\n",
       "      <th></th>\n",
       "      <th></th>\n",
       "      <th></th>\n",
       "      <th></th>\n",
       "    </tr>\n",
       "  </thead>\n",
       "  <tbody>\n",
       "    <tr>\n",
       "      <th>False</th>\n",
       "      <td>46179.751963</td>\n",
       "      <td>226.583014</td>\n",
       "      <td>0.000315</td>\n",
       "      <td>478.894612</td>\n",
       "      <td>0.545205</td>\n",
       "    </tr>\n",
       "    <tr>\n",
       "      <th>True</th>\n",
       "      <td>46098.384924</td>\n",
       "      <td>233.709742</td>\n",
       "      <td>0.000270</td>\n",
       "      <td>146.695467</td>\n",
       "      <td>0.890809</td>\n",
       "    </tr>\n",
       "  </tbody>\n",
       "</table>\n",
       "</div>"
      ],
      "text/plain": [
       "                  line  prefix_tok_len  probability      argmax  \\\n",
       "contains                                                          \n",
       "False     46179.751963      226.583014     0.000315  478.894612   \n",
       "True      46098.384924      233.709742     0.000270  146.695467   \n",
       "\n",
       "          argmax_is_comma  \n",
       "contains                   \n",
       "False            0.545205  \n",
       "True             0.890809  "
      ]
     },
     "execution_count": 14,
     "metadata": {},
     "output_type": "execute_result"
    }
   ],
   "source": [
    "subset_train_df.groupby('contains').mean()"
   ]
  },
  {
   "cell_type": "code",
   "execution_count": 15,
   "id": "20404544",
   "metadata": {},
   "outputs": [
    {
     "data": {
      "text/html": [
       "<div>\n",
       "<style scoped>\n",
       "    .dataframe tbody tr th:only-of-type {\n",
       "        vertical-align: middle;\n",
       "    }\n",
       "\n",
       "    .dataframe tbody tr th {\n",
       "        vertical-align: top;\n",
       "    }\n",
       "\n",
       "    .dataframe thead th {\n",
       "        text-align: right;\n",
       "    }\n",
       "</style>\n",
       "<table border=\"1\" class=\"dataframe\">\n",
       "  <thead>\n",
       "    <tr style=\"text-align: right;\">\n",
       "      <th></th>\n",
       "      <th>line</th>\n",
       "      <th>prefix_tok_len</th>\n",
       "      <th>probability</th>\n",
       "      <th>argmax</th>\n",
       "      <th>argmax_is_comma</th>\n",
       "    </tr>\n",
       "    <tr>\n",
       "      <th>contains</th>\n",
       "      <th></th>\n",
       "      <th></th>\n",
       "      <th></th>\n",
       "      <th></th>\n",
       "      <th></th>\n",
       "    </tr>\n",
       "  </thead>\n",
       "  <tbody>\n",
       "    <tr>\n",
       "      <th>False</th>\n",
       "      <td>45069.711193</td>\n",
       "      <td>228.264587</td>\n",
       "      <td>0.000465</td>\n",
       "      <td>464.102936</td>\n",
       "      <td>0.544404</td>\n",
       "    </tr>\n",
       "    <tr>\n",
       "      <th>True</th>\n",
       "      <td>44602.764735</td>\n",
       "      <td>236.698334</td>\n",
       "      <td>0.000221</td>\n",
       "      <td>187.811738</td>\n",
       "      <td>0.894056</td>\n",
       "    </tr>\n",
       "  </tbody>\n",
       "</table>\n",
       "</div>"
      ],
      "text/plain": [
       "                  line  prefix_tok_len  probability      argmax  \\\n",
       "contains                                                          \n",
       "False     45069.711193      228.264587     0.000465  464.102936   \n",
       "True      44602.764735      236.698334     0.000221  187.811738   \n",
       "\n",
       "          argmax_is_comma  \n",
       "contains                   \n",
       "False            0.544404  \n",
       "True             0.894056  "
      ]
     },
     "execution_count": 15,
     "metadata": {},
     "output_type": "execute_result"
    }
   ],
   "source": [
    "subset_valid_df.groupby('contains').mean()"
   ]
  },
  {
   "cell_type": "code",
   "execution_count": 16,
   "id": "5248db85",
   "metadata": {},
   "outputs": [
    {
     "data": {
      "text/html": [
       "<div>\n",
       "<style scoped>\n",
       "    .dataframe tbody tr th:only-of-type {\n",
       "        vertical-align: middle;\n",
       "    }\n",
       "\n",
       "    .dataframe tbody tr th {\n",
       "        vertical-align: top;\n",
       "    }\n",
       "\n",
       "    .dataframe thead th {\n",
       "        text-align: right;\n",
       "    }\n",
       "</style>\n",
       "<table border=\"1\" class=\"dataframe\">\n",
       "  <thead>\n",
       "    <tr style=\"text-align: right;\">\n",
       "      <th></th>\n",
       "      <th>line</th>\n",
       "      <th>prefix_tok_len</th>\n",
       "      <th>probability</th>\n",
       "      <th>argmax</th>\n",
       "      <th>argmax_is_comma</th>\n",
       "    </tr>\n",
       "    <tr>\n",
       "      <th>contains</th>\n",
       "      <th></th>\n",
       "      <th></th>\n",
       "      <th></th>\n",
       "      <th></th>\n",
       "      <th></th>\n",
       "    </tr>\n",
       "  </thead>\n",
       "  <tbody>\n",
       "    <tr>\n",
       "      <th>False</th>\n",
       "      <td>356.162880</td>\n",
       "      <td>1.289466</td>\n",
       "      <td>0.00003</td>\n",
       "      <td>35.652450</td>\n",
       "      <td>0.006730</td>\n",
       "    </tr>\n",
       "    <tr>\n",
       "      <th>True</th>\n",
       "      <td>416.611092</td>\n",
       "      <td>1.797477</td>\n",
       "      <td>0.00003</td>\n",
       "      <td>25.319212</td>\n",
       "      <td>0.004936</td>\n",
       "    </tr>\n",
       "  </tbody>\n",
       "</table>\n",
       "</div>"
      ],
      "text/plain": [
       "                line  prefix_tok_len  probability     argmax  argmax_is_comma\n",
       "contains                                                                     \n",
       "False     356.162880        1.289466      0.00003  35.652450         0.006730\n",
       "True      416.611092        1.797477      0.00003  25.319212         0.004936"
      ]
     },
     "execution_count": 16,
     "metadata": {},
     "output_type": "execute_result"
    }
   ],
   "source": [
    "subset_train_df.groupby('contains').sem()"
   ]
  }
 ],
 "metadata": {
  "kernelspec": {
   "display_name": "Python 3 (ipykernel)",
   "language": "python",
   "name": "python3"
  },
  "language_info": {
   "codemirror_mode": {
    "name": "ipython",
    "version": 3
   },
   "file_extension": ".py",
   "mimetype": "text/x-python",
   "name": "python",
   "nbconvert_exporter": "python",
   "pygments_lexer": "ipython3",
   "version": "3.10.11"
  }
 },
 "nbformat": 4,
 "nbformat_minor": 5
}
