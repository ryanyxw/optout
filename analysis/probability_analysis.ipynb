{
 "cells": [
  {
   "cell_type": "code",
   "execution_count": 1,
   "id": "cbd696dd",
   "metadata": {},
   "outputs": [],
   "source": [
    "import numpy as np\n",
    "import pandas as pd"
   ]
  },
  {
   "cell_type": "code",
   "execution_count": 2,
   "id": "94afe2de",
   "metadata": {},
   "outputs": [],
   "source": [
    "train_fn = '../out/oxford_comma/head_train_nocommas_scored.csv'\n",
    "valid_fn = '../out/oxford_comma/head_val_nocommas_scored.csv'"
   ]
  },
  {
   "cell_type": "code",
   "execution_count": 3,
   "id": "568b47cc",
   "metadata": {},
   "outputs": [
    {
     "data": {
      "text/html": [
       "<div>\n",
       "<style scoped>\n",
       "    .dataframe tbody tr th:only-of-type {\n",
       "        vertical-align: middle;\n",
       "    }\n",
       "\n",
       "    .dataframe tbody tr th {\n",
       "        vertical-align: top;\n",
       "    }\n",
       "\n",
       "    .dataframe thead th {\n",
       "        text-align: right;\n",
       "    }\n",
       "</style>\n",
       "<table border=\"1\" class=\"dataframe\">\n",
       "  <thead>\n",
       "    <tr style=\"text-align: right;\">\n",
       "      <th></th>\n",
       "      <th>line</th>\n",
       "      <th>prefix_tok_len</th>\n",
       "      <th>contains</th>\n",
       "      <th>probability</th>\n",
       "      <th>argmax</th>\n",
       "    </tr>\n",
       "  </thead>\n",
       "  <tbody>\n",
       "    <tr>\n",
       "      <th>0</th>\n",
       "      <td>14</td>\n",
       "      <td>140</td>\n",
       "      <td>True</td>\n",
       "      <td>0.18369</td>\n",
       "      <td>290</td>\n",
       "    </tr>\n",
       "  </tbody>\n",
       "</table>\n",
       "</div>"
      ],
      "text/plain": [
       "   line  prefix_tok_len  contains  probability  argmax\n",
       "0    14             140      True      0.18369     290"
      ]
     },
     "execution_count": 3,
     "metadata": {},
     "output_type": "execute_result"
    }
   ],
   "source": [
    "train_df = pd.read_csv(train_fn, names=['line', 'prefix_tok_len', 'contains', 'probability', 'argmax'])\n",
    "valid_df = pd.read_csv(valid_fn, names=['line', 'prefix_tok_len', 'contains', 'probability', 'argmax'])\n",
    "train_df.head(1)"
   ]
  },
  {
   "cell_type": "code",
   "execution_count": 4,
   "id": "23095413",
   "metadata": {},
   "outputs": [
    {
     "data": {
      "text/plain": [
       "', and or. of'"
      ]
     },
     "execution_count": 4,
     "metadata": {},
     "output_type": "execute_result"
    }
   ],
   "source": [
    "#from transformers import AutoModelForCausalLM, AutoTokenizer\n",
    "#tokenizer = AutoTokenizer.from_pretrained('EleutherAI/gpt-j-6B', truncation_side='left')\n",
    "#tokenizer.decode([11, 290, 393, 13, 286])\n",
    "\n",
    "', and or. of'"
   ]
  },
  {
   "cell_type": "code",
   "execution_count": 5,
   "id": "45f791d9",
   "metadata": {},
   "outputs": [],
   "source": [
    "train_df['argmax_is_comma'] = train_df.argmax == 11\n",
    "valid_df['argmax_is_comma'] = valid_df.argmax == 11"
   ]
  },
  {
   "cell_type": "code",
   "execution_count": 6,
   "id": "b3078d8e",
   "metadata": {},
   "outputs": [
    {
     "data": {
      "text/plain": [
       "(2106, 2173)"
      ]
     },
     "execution_count": 6,
     "metadata": {},
     "output_type": "execute_result"
    }
   ],
   "source": [
    "subset_train_df = train_df[train_df.prefix_tok_len > 50]\n",
    "subset_valid_df = valid_df[valid_df.prefix_tok_len > 50]\n",
    "len(train_df), len(valid_df)"
   ]
  },
  {
   "cell_type": "markdown",
   "id": "af406a88",
   "metadata": {},
   "source": [
    "# Summary statistics"
   ]
  },
  {
   "cell_type": "code",
   "execution_count": 7,
   "id": "8fdeea7b",
   "metadata": {},
   "outputs": [
    {
     "data": {
      "text/plain": [
       "11      1217\n",
       "290      618\n",
       "393       66\n",
       "13        12\n",
       "286        6\n",
       "8          4\n",
       "284        3\n",
       "447        3\n",
       "4696       1\n",
       "1524       1\n",
       "Name: argmax, dtype: int64"
      ]
     },
     "execution_count": 7,
     "metadata": {},
     "output_type": "execute_result"
    }
   ],
   "source": [
    "subset_train_df.argmax.value_counts()[:10]"
   ]
  },
  {
   "cell_type": "code",
   "execution_count": 8,
   "id": "802a5d87",
   "metadata": {},
   "outputs": [
    {
     "data": {
      "text/plain": [
       "False    0.572723\n",
       "True     0.427277\n",
       "Name: contains, dtype: float64"
      ]
     },
     "execution_count": 8,
     "metadata": {},
     "output_type": "execute_result"
    }
   ],
   "source": [
    "subset_train_df.contains.value_counts(normalize=True)"
   ]
  },
  {
   "cell_type": "code",
   "execution_count": 9,
   "id": "bad2e3e3",
   "metadata": {},
   "outputs": [
    {
     "data": {
      "text/plain": [
       "False    0.576999\n",
       "True     0.423001\n",
       "Name: contains, dtype: float64"
      ]
     },
     "execution_count": 9,
     "metadata": {},
     "output_type": "execute_result"
    }
   ],
   "source": [
    "subset_valid_df.contains.value_counts(normalize=True)"
   ]
  },
  {
   "cell_type": "markdown",
   "id": "b9dbeee2",
   "metadata": {},
   "source": [
    "# Analysis"
   ]
  },
  {
   "cell_type": "code",
   "execution_count": 10,
   "id": "0dea8109",
   "metadata": {},
   "outputs": [
    {
     "data": {
      "text/plain": [
       "(0.6175138399597383, 0.010902655180914371)"
      ]
     },
     "execution_count": 10,
     "metadata": {},
     "output_type": "execute_result"
    }
   ],
   "source": [
    "correctness = subset_train_df.argmax_is_comma == subset_train_df.contains\n",
    "np.mean(correctness), np.std(correctness)/np.sqrt(len(correctness))"
   ]
  },
  {
   "cell_type": "code",
   "execution_count": 11,
   "id": "20a0a4c2",
   "metadata": {},
   "outputs": [
    {
     "data": {
      "text/plain": [
       "(0.5839091806515301, 0.010950829017520628)"
      ]
     },
     "execution_count": 11,
     "metadata": {},
     "output_type": "execute_result"
    }
   ],
   "source": [
    "correctness = subset_valid_df.argmax_is_comma == subset_valid_df.contains\n",
    "np.mean(correctness), np.std(correctness)/np.sqrt(len(correctness))"
   ]
  },
  {
   "cell_type": "code",
   "execution_count": 12,
   "id": "22f915a0",
   "metadata": {
    "scrolled": true
   },
   "outputs": [
    {
     "data": {
      "text/html": [
       "<div>\n",
       "<style scoped>\n",
       "    .dataframe tbody tr th:only-of-type {\n",
       "        vertical-align: middle;\n",
       "    }\n",
       "\n",
       "    .dataframe tbody tr th {\n",
       "        vertical-align: top;\n",
       "    }\n",
       "\n",
       "    .dataframe thead th {\n",
       "        text-align: right;\n",
       "    }\n",
       "</style>\n",
       "<table border=\"1\" class=\"dataframe\">\n",
       "  <thead>\n",
       "    <tr style=\"text-align: right;\">\n",
       "      <th></th>\n",
       "      <th>line</th>\n",
       "      <th>prefix_tok_len</th>\n",
       "      <th>probability</th>\n",
       "      <th>argmax</th>\n",
       "      <th>argmax_is_comma</th>\n",
       "    </tr>\n",
       "    <tr>\n",
       "      <th>contains</th>\n",
       "      <th></th>\n",
       "      <th></th>\n",
       "      <th></th>\n",
       "      <th></th>\n",
       "      <th></th>\n",
       "    </tr>\n",
       "  </thead>\n",
       "  <tbody>\n",
       "    <tr>\n",
       "      <th>False</th>\n",
       "      <td>9949.765378</td>\n",
       "      <td>221.685413</td>\n",
       "      <td>0.418233</td>\n",
       "      <td>619.656415</td>\n",
       "      <td>0.495606</td>\n",
       "    </tr>\n",
       "    <tr>\n",
       "      <th>True</th>\n",
       "      <td>9978.580683</td>\n",
       "      <td>226.029446</td>\n",
       "      <td>0.592955</td>\n",
       "      <td>150.316843</td>\n",
       "      <td>0.769140</td>\n",
       "    </tr>\n",
       "  </tbody>\n",
       "</table>\n",
       "</div>"
      ],
      "text/plain": [
       "                 line  prefix_tok_len  probability      argmax  \\\n",
       "contains                                                         \n",
       "False     9949.765378      221.685413     0.418233  619.656415   \n",
       "True      9978.580683      226.029446     0.592955  150.316843   \n",
       "\n",
       "          argmax_is_comma  \n",
       "contains                   \n",
       "False            0.495606  \n",
       "True             0.769140  "
      ]
     },
     "execution_count": 12,
     "metadata": {},
     "output_type": "execute_result"
    }
   ],
   "source": [
    "subset_train_df.groupby('contains').mean()"
   ]
  },
  {
   "cell_type": "code",
   "execution_count": 13,
   "id": "20404544",
   "metadata": {},
   "outputs": [
    {
     "data": {
      "text/html": [
       "<div>\n",
       "<style scoped>\n",
       "    .dataframe tbody tr th:only-of-type {\n",
       "        vertical-align: middle;\n",
       "    }\n",
       "\n",
       "    .dataframe tbody tr th {\n",
       "        vertical-align: top;\n",
       "    }\n",
       "\n",
       "    .dataframe thead th {\n",
       "        text-align: right;\n",
       "    }\n",
       "</style>\n",
       "<table border=\"1\" class=\"dataframe\">\n",
       "  <thead>\n",
       "    <tr style=\"text-align: right;\">\n",
       "      <th></th>\n",
       "      <th>line</th>\n",
       "      <th>prefix_tok_len</th>\n",
       "      <th>probability</th>\n",
       "      <th>argmax</th>\n",
       "      <th>argmax_is_comma</th>\n",
       "    </tr>\n",
       "    <tr>\n",
       "      <th>contains</th>\n",
       "      <th></th>\n",
       "      <th></th>\n",
       "      <th></th>\n",
       "      <th></th>\n",
       "      <th></th>\n",
       "    </tr>\n",
       "  </thead>\n",
       "  <tbody>\n",
       "    <tr>\n",
       "      <th>False</th>\n",
       "      <td>9826.570573</td>\n",
       "      <td>224.183062</td>\n",
       "      <td>0.423823</td>\n",
       "      <td>579.884517</td>\n",
       "      <td>0.535500</td>\n",
       "    </tr>\n",
       "    <tr>\n",
       "      <th>True</th>\n",
       "      <td>10126.607935</td>\n",
       "      <td>235.812135</td>\n",
       "      <td>0.580665</td>\n",
       "      <td>205.359393</td>\n",
       "      <td>0.746791</td>\n",
       "    </tr>\n",
       "  </tbody>\n",
       "</table>\n",
       "</div>"
      ],
      "text/plain": [
       "                  line  prefix_tok_len  probability      argmax  \\\n",
       "contains                                                          \n",
       "False      9826.570573      224.183062     0.423823  579.884517   \n",
       "True      10126.607935      235.812135     0.580665  205.359393   \n",
       "\n",
       "          argmax_is_comma  \n",
       "contains                   \n",
       "False            0.535500  \n",
       "True             0.746791  "
      ]
     },
     "execution_count": 13,
     "metadata": {},
     "output_type": "execute_result"
    }
   ],
   "source": [
    "subset_valid_df.groupby('contains').mean()"
   ]
  },
  {
   "cell_type": "code",
   "execution_count": 14,
   "id": "5248db85",
   "metadata": {},
   "outputs": [
    {
     "data": {
      "text/html": [
       "<div>\n",
       "<style scoped>\n",
       "    .dataframe tbody tr th:only-of-type {\n",
       "        vertical-align: middle;\n",
       "    }\n",
       "\n",
       "    .dataframe tbody tr th {\n",
       "        vertical-align: top;\n",
       "    }\n",
       "\n",
       "    .dataframe thead th {\n",
       "        text-align: right;\n",
       "    }\n",
       "</style>\n",
       "<table border=\"1\" class=\"dataframe\">\n",
       "  <thead>\n",
       "    <tr style=\"text-align: right;\">\n",
       "      <th></th>\n",
       "      <th>line</th>\n",
       "      <th>prefix_tok_len</th>\n",
       "      <th>probability</th>\n",
       "      <th>argmax</th>\n",
       "      <th>argmax_is_comma</th>\n",
       "    </tr>\n",
       "    <tr>\n",
       "      <th>contains</th>\n",
       "      <th></th>\n",
       "      <th></th>\n",
       "      <th></th>\n",
       "      <th></th>\n",
       "      <th></th>\n",
       "    </tr>\n",
       "  </thead>\n",
       "  <tbody>\n",
       "    <tr>\n",
       "      <th>False</th>\n",
       "      <td>170.321466</td>\n",
       "      <td>2.954034</td>\n",
       "      <td>0.006473</td>\n",
       "      <td>105.095388</td>\n",
       "      <td>0.014828</td>\n",
       "    </tr>\n",
       "    <tr>\n",
       "      <th>True</th>\n",
       "      <td>202.620606</td>\n",
       "      <td>3.551746</td>\n",
       "      <td>0.007280</td>\n",
       "      <td>42.655525</td>\n",
       "      <td>0.014470</td>\n",
       "    </tr>\n",
       "  </tbody>\n",
       "</table>\n",
       "</div>"
      ],
      "text/plain": [
       "                line  prefix_tok_len  probability      argmax  argmax_is_comma\n",
       "contains                                                                      \n",
       "False     170.321466        2.954034     0.006473  105.095388         0.014828\n",
       "True      202.620606        3.551746     0.007280   42.655525         0.014470"
      ]
     },
     "execution_count": 14,
     "metadata": {},
     "output_type": "execute_result"
    }
   ],
   "source": [
    "subset_train_df.groupby('contains').sem()"
   ]
  }
 ],
 "metadata": {
  "kernelspec": {
   "display_name": "Python 3 (ipykernel)",
   "language": "python",
   "name": "python3"
  },
  "language_info": {
   "codemirror_mode": {
    "name": "ipython",
    "version": 3
   },
   "file_extension": ".py",
   "mimetype": "text/x-python",
   "name": "python",
   "nbconvert_exporter": "python",
   "pygments_lexer": "ipython3",
   "version": "3.10.11"
  }
 },
 "nbformat": 4,
 "nbformat_minor": 5
}
