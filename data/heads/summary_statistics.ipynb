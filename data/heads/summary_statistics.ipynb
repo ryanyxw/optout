{
 "cells": [
  {
   "cell_type": "code",
   "execution_count": 32,
   "id": "b06528ed",
   "metadata": {},
   "outputs": [],
   "source": [
    "import json\n",
    "import gzip\n",
    "import pandas as pd"
   ]
  },
  {
   "cell_type": "code",
   "execution_count": 37,
   "id": "ae230623",
   "metadata": {},
   "outputs": [],
   "source": [
    "with open('head_val.jsonl.gz', 'rb') as fh:\n",
    "    data_train = list(gzip.open(fh, 'rt'))\n",
    "    data_train = [ json.loads(i) for i in data_train ]\n",
    "\n",
    "    for i in data_train:\n",
    "        i['pile_set_name'] = i['meta']['pile_set_name']"
   ]
  },
  {
   "cell_type": "code",
   "execution_count": 38,
   "id": "417daaf6",
   "metadata": {},
   "outputs": [
    {
     "data": {
      "text/html": [
       "<div>\n",
       "<style scoped>\n",
       "    .dataframe tbody tr th:only-of-type {\n",
       "        vertical-align: middle;\n",
       "    }\n",
       "\n",
       "    .dataframe tbody tr th {\n",
       "        vertical-align: top;\n",
       "    }\n",
       "\n",
       "    .dataframe thead th {\n",
       "        text-align: right;\n",
       "    }\n",
       "</style>\n",
       "<table border=\"1\" class=\"dataframe\">\n",
       "  <thead>\n",
       "    <tr style=\"text-align: right;\">\n",
       "      <th></th>\n",
       "      <th>text</th>\n",
       "      <th>meta</th>\n",
       "      <th>pile_set_name</th>\n",
       "    </tr>\n",
       "  </thead>\n",
       "  <tbody>\n",
       "    <tr>\n",
       "      <th>0</th>\n",
       "      <td>Catalonia election: Puigdemont calls for talks...</td>\n",
       "      <td>{'pile_set_name': 'OpenWebText2'}</td>\n",
       "      <td>OpenWebText2</td>\n",
       "    </tr>\n",
       "    <tr>\n",
       "      <th>1</th>\n",
       "      <td>Wirex, a prominent UK’s FCA supported cryptocu...</td>\n",
       "      <td>{'pile_set_name': 'OpenWebText2'}</td>\n",
       "      <td>OpenWebText2</td>\n",
       "    </tr>\n",
       "    <tr>\n",
       "      <th>2</th>\n",
       "      <td>Effect of sleep quality on memory, executive f...</td>\n",
       "      <td>{'pile_set_name': 'PubMed Abstracts'}</td>\n",
       "      <td>PubMed Abstracts</td>\n",
       "    </tr>\n",
       "    <tr>\n",
       "      <th>3</th>\n",
       "      <td>### Solution for \"Download of Code Without Int...</td>\n",
       "      <td>{'pile_set_name': 'Github'}</td>\n",
       "      <td>Github</td>\n",
       "    </tr>\n",
       "    <tr>\n",
       "      <th>4</th>\n",
       "      <td>Fluorescent labeling of both GABAergic and gly...</td>\n",
       "      <td>{'pile_set_name': 'PubMed Abstracts'}</td>\n",
       "      <td>PubMed Abstracts</td>\n",
       "    </tr>\n",
       "  </tbody>\n",
       "</table>\n",
       "</div>"
      ],
      "text/plain": [
       "                                                text  \\\n",
       "0  Catalonia election: Puigdemont calls for talks...   \n",
       "1  Wirex, a prominent UK’s FCA supported cryptocu...   \n",
       "2  Effect of sleep quality on memory, executive f...   \n",
       "3  ### Solution for \"Download of Code Without Int...   \n",
       "4  Fluorescent labeling of both GABAergic and gly...   \n",
       "\n",
       "                                    meta     pile_set_name  \n",
       "0      {'pile_set_name': 'OpenWebText2'}      OpenWebText2  \n",
       "1      {'pile_set_name': 'OpenWebText2'}      OpenWebText2  \n",
       "2  {'pile_set_name': 'PubMed Abstracts'}  PubMed Abstracts  \n",
       "3            {'pile_set_name': 'Github'}            Github  \n",
       "4  {'pile_set_name': 'PubMed Abstracts'}  PubMed Abstracts  "
      ]
     },
     "execution_count": 38,
     "metadata": {},
     "output_type": "execute_result"
    }
   ],
   "source": [
    "df = pd.DataFrame(data_train)\n",
    "df.head()"
   ]
  },
  {
   "cell_type": "code",
   "execution_count": 39,
   "id": "95d356a0",
   "metadata": {},
   "outputs": [
    {
     "data": {
      "text/plain": [
       "pile_set_name\n",
       "Pile-CC              5046\n",
       "OpenWebText2         3065\n",
       "PubMed Abstracts     2763\n",
       "StackExchange        2720\n",
       "Github               1728\n",
       "Wikipedia (en)       1630\n",
       "USPTO Backgrounds    1056\n",
       "PubMed Central        539\n",
       "FreeLaw               486\n",
       "ArXiv                 235\n",
       "DM Mathematics        182\n",
       "NIH ExPorter          172\n",
       "HackerNews            120\n",
       "Enron Emails          100\n",
       "OpenSubtitles          61\n",
       "YoutubeSubtitles       40\n",
       "Books3                 29\n",
       "EuroParl               10\n",
       "PhilPapers              5\n",
       "BookCorpus2             5\n",
       "Gutenberg (PG-19)       5\n",
       "Ubuntu IRC              3\n",
       "dtype: int64"
      ]
     },
     "execution_count": 39,
     "metadata": {},
     "output_type": "execute_result"
    }
   ],
   "source": [
    "# head_val.jsonl.gz\n",
    "df.value_counts('pile_set_name')"
   ]
  },
  {
   "cell_type": "code",
   "execution_count": 36,
   "id": "42e3e1cb",
   "metadata": {},
   "outputs": [
    {
     "data": {
      "text/plain": [
       "pile_set_name\n",
       "Pile-CC              5056\n",
       "OpenWebText2         3051\n",
       "PubMed Abstracts     2809\n",
       "StackExchange        2755\n",
       "Github               1712\n",
       "Wikipedia (en)       1624\n",
       "USPTO Backgrounds    1061\n",
       "PubMed Central        530\n",
       "FreeLaw               456\n",
       "ArXiv                 194\n",
       "DM Mathematics        189\n",
       "NIH ExPorter          181\n",
       "HackerNews            150\n",
       "Enron Emails           92\n",
       "OpenSubtitles          58\n",
       "YoutubeSubtitles       29\n",
       "Books3                 20\n",
       "EuroParl               13\n",
       "PhilPapers             10\n",
       "Ubuntu IRC              5\n",
       "BookCorpus2             3\n",
       "Gutenberg (PG-19)       2\n",
       "dtype: int64"
      ]
     },
     "execution_count": 36,
     "metadata": {},
     "output_type": "execute_result"
    }
   ],
   "source": [
    "# head_00.jsonl.gz\n",
    "df.value_counts('pile_set_name')"
   ]
  },
  {
   "cell_type": "code",
   "execution_count": null,
   "id": "387bdddd",
   "metadata": {},
   "outputs": [],
   "source": []
  }
 ],
 "metadata": {
  "kernelspec": {
   "display_name": "Python 3 (ipykernel)",
   "language": "python",
   "name": "python3"
  },
  "language_info": {
   "codemirror_mode": {
    "name": "ipython",
    "version": 3
   },
   "file_extension": ".py",
   "mimetype": "text/x-python",
   "name": "python",
   "nbconvert_exporter": "python",
   "pygments_lexer": "ipython3",
   "version": "3.10.11"
  }
 },
 "nbformat": 4,
 "nbformat_minor": 5
}
