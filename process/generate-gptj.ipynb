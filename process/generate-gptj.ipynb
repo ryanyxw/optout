{
 "cells": [
  {
   "cell_type": "code",
   "execution_count": 1,
   "id": "f8bab71b",
   "metadata": {},
   "outputs": [],
   "source": [
    "from tqdm.notebook import tqdm\n",
    "import csv\n",
    "\n",
    "import torch\n",
    "from transformers import AutoModelForCausalLM, AutoTokenizer"
   ]
  },
  {
   "cell_type": "code",
   "execution_count": 8,
   "id": "1ecf1c79",
   "metadata": {},
   "outputs": [],
   "source": [
    "device = 'cuda'\n",
    "model_name = 'EleutherAI/gpt-j-6B'\n",
    "model_precision = \"float16\"\n",
    "target_token_idx = 11\n",
    "max_length = 200\n",
    "gen_length = 20\n",
    "input_fn = '../out/memorization/head_val_extract.csv'\n",
    "output_fn = '../out/memorization/head_val_scored.csv'"
   ]
  },
  {
   "cell_type": "code",
   "execution_count": 3,
   "id": "4c1e2d94",
   "metadata": {},
   "outputs": [],
   "source": [
    "tokenizer = AutoTokenizer.from_pretrained(model_name, truncation_side='left')\n",
    "if model_precision == \"float16\":\n",
    "    model = AutoModelForCausalLM.from_pretrained(model_name, revision=\"float16\", torch_dtype=torch.float16,\n",
    "                                                 return_dict=True).to(device)\n",
    "else:\n",
    "    model = AutoModelForCausalLM.from_pretrained(model_name, return_dict=True).to(device)"
   ]
  },
  {
   "cell_type": "code",
   "execution_count": 9,
   "id": "fe596e04",
   "metadata": {},
   "outputs": [],
   "source": [
    "in_data = list(csv.reader(open(input_fn, 'rt')))\n",
    "header = in_data[0]\n",
    "in_data = in_data[1:]"
   ]
  },
  {
   "cell_type": "code",
   "execution_count": 10,
   "id": "2113cdf3",
   "metadata": {},
   "outputs": [
    {
     "data": {
      "text/plain": [
       "30"
      ]
     },
     "execution_count": 10,
     "metadata": {},
     "output_type": "execute_result"
    }
   ],
   "source": [
    "out_fh = open(output_fn, 'wt')\n",
    "out = csv.writer(out_fh)\n",
    "\n",
    "# write headers\n",
    "out.writerow([\"line\", \"prefix\", \"suffix\", \"generated\"])"
   ]
  },
  {
   "cell_type": "code",
   "execution_count": null,
   "id": "ae1cef3b",
   "metadata": {},
   "outputs": [
    {
     "data": {
      "application/vnd.jupyter.widget-view+json": {
       "model_id": "6153b3dea9574e29b2c97e0a556b9a93",
       "version_major": 2,
       "version_minor": 0
      },
      "text/plain": [
       "  0%|          | 0/20000 [00:00<?, ?it/s]"
      ]
     },
     "metadata": {},
     "output_type": "display_data"
    }
   ],
   "source": [
    "for i, line in tqdm(enumerate(in_data), total=len(in_data)):\n",
    "    line_idx, prefix, suffix, suffix_len = line\n",
    "\n",
    "    input_ids = tokenizer.encode(prefix, \\\n",
    "                                 return_tensors='pt', \\\n",
    "                                 max_length=max_length, \\\n",
    "                                 truncation=True, \\\n",
    "                                 padding=False).to(device)\n",
    "    # i checked, it is left truncate\n",
    "\n",
    "    with torch.no_grad():\n",
    "        model.eval()\n",
    "        outputs = model.greedy_search(input_ids, pad_token_id=-1, \n",
    "                                      max_length=len(input_ids[0])+gen_length)\n",
    "\n",
    "    outputs = outputs.tolist()[0]\n",
    "    outputs = outputs[-gen_length:]\n",
    "    output_str = tokenizer.decode(outputs)\n",
    "\n",
    "    out.writerow([line_idx, prefix, suffix, output_str])"
   ]
  },
  {
   "cell_type": "code",
   "execution_count": null,
   "id": "ec3d3a80",
   "metadata": {},
   "outputs": [],
   "source": [
    "out_fh.close()"
   ]
  }
 ],
 "metadata": {
  "kernelspec": {
   "display_name": "Python 3 (ipykernel)",
   "language": "python",
   "name": "python3"
  },
  "language_info": {
   "codemirror_mode": {
    "name": "ipython",
    "version": 3
   },
   "file_extension": ".py",
   "mimetype": "text/x-python",
   "name": "python",
   "nbconvert_exporter": "python",
   "pygments_lexer": "ipython3",
   "version": "3.10.11"
  }
 },
 "nbformat": 4,
 "nbformat_minor": 5
}
