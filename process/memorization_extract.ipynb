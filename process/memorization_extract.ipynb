{
 "cells": [
  {
   "cell_type": "code",
   "execution_count": 1,
   "id": "db899766",
   "metadata": {},
   "outputs": [],
   "source": [
    "import json\n",
    "import os\n",
    "import gzip\n",
    "from nltk.tokenize import sent_tokenize\n",
    "import re\n",
    "import csv\n",
    "from tqdm.notebook import tqdm\n",
    "\n",
    "from transformers import AutoTokenizer"
   ]
  },
  {
   "cell_type": "code",
   "execution_count": 2,
   "id": "d87abe68",
   "metadata": {
    "tags": [
     "parameters"
    ]
   },
   "outputs": [],
   "source": [
    "input_fn = '../data/heads/head_00.jsonl.gz'\n",
    "output_fn = '../out/memorization/head_train_extract.csv'\n",
    "model_name = 'EleutherAI/gpt-j-6B'\n",
    "max_context_len = 200"
   ]
  },
  {
   "cell_type": "code",
   "execution_count": 3,
   "id": "ea34f7f2",
   "metadata": {},
   "outputs": [],
   "source": [
    "data_train = list(gzip.open(input_fn, 'rt'))"
   ]
  },
  {
   "cell_type": "code",
   "execution_count": 4,
   "id": "62a82619",
   "metadata": {},
   "outputs": [
    {
     "data": {
      "text/plain": [
       "32"
      ]
     },
     "execution_count": 4,
     "metadata": {},
     "output_type": "execute_result"
    }
   ],
   "source": [
    "fh = open(output_fn, 'wt')\n",
    "csv_writer = csv.writer(fh)\n",
    "\n",
    "# write headers\n",
    "csv_writer.writerow([\"line\", \"sentence\", \"suffix\", \"remaining\"])"
   ]
  },
  {
   "cell_type": "code",
   "execution_count": 5,
   "id": "d5dc3f63",
   "metadata": {},
   "outputs": [],
   "source": [
    "tokenizer = AutoTokenizer.from_pretrained(model_name, truncation_side='left')"
   ]
  },
  {
   "cell_type": "code",
   "execution_count": 6,
   "id": "a56149f5",
   "metadata": {},
   "outputs": [
    {
     "data": {
      "application/vnd.jupyter.widget-view+json": {
       "model_id": "0959d235fb1c441a903c0530009fc788",
       "version_major": 2,
       "version_minor": 0
      },
      "text/plain": [
       "  0%|          | 0/20000 [00:00<?, ?it/s]"
      ]
     },
     "metadata": {},
     "output_type": "display_data"
    },
    {
     "name": "stderr",
     "output_type": "stream",
     "text": [
      "Token indices sequence length is longer than the specified maximum sequence length for this model (3111 > 2048). Running this sequence through the model will result in indexing errors\n"
     ]
    }
   ],
   "source": [
    "for i, line in tqdm(enumerate(data_train), total=len(data_train)):\n",
    "    text = json.loads(line)[\"text\"]\n",
    "    text = text.replace('\\n', ' ')\n",
    "    \n",
    "    tokenized = tokenizer(text)\n",
    "    truncated_tokens = tokenized['input_ids'][:max_context_len]\n",
    "    truncated_input = tokenizer.decode(truncated_tokens)\n",
    "    \n",
    "    suffix_tokens = tokenized['input_ids'][max_context_len:max_context_len*2]\n",
    "    suffix = tokenizer.decode(suffix_tokens)\n",
    "    \n",
    "    csv_writer.writerow([i, truncated_input, suffix, len(suffix_tokens) ])"
   ]
  },
  {
   "cell_type": "code",
   "execution_count": 7,
   "id": "ab455f85",
   "metadata": {},
   "outputs": [],
   "source": [
    "fh.close()"
   ]
  }
 ],
 "metadata": {
  "celltoolbar": "Tags",
  "kernelspec": {
   "display_name": "Python 3 (ipykernel)",
   "language": "python",
   "name": "python3"
  },
  "language_info": {
   "codemirror_mode": {
    "name": "ipython",
    "version": 3
   },
   "file_extension": ".py",
   "mimetype": "text/x-python",
   "name": "python",
   "nbconvert_exporter": "python",
   "pygments_lexer": "ipython3",
   "version": "3.10.11"
  }
 },
 "nbformat": 4,
 "nbformat_minor": 5
}
