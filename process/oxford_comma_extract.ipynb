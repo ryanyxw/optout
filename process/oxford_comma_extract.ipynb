{
 "cells": [
  {
   "cell_type": "code",
   "execution_count": 1,
   "id": "db899766",
   "metadata": {},
   "outputs": [],
   "source": [
    "import json\n",
    "import os\n",
    "import gzip\n",
    "from nltk.tokenize import sent_tokenize\n",
    "import re\n",
    "import csv\n",
    "from tqdm.notebook import tqdm"
   ]
  },
  {
   "cell_type": "code",
   "execution_count": 2,
   "id": "d87abe68",
   "metadata": {
    "tags": [
     "parameters"
    ]
   },
   "outputs": [],
   "source": [
    "input_fn = '../data/heads/head_val.jsonl.gz'\n",
    "output_fn = '../out/oxford_comma/head_val_extract.csv'\n",
    "max_context_len = 1000"
   ]
  },
  {
   "cell_type": "code",
   "execution_count": 3,
   "id": "ea34f7f2",
   "metadata": {},
   "outputs": [],
   "source": [
    "data_train = list(gzip.open(input_fn, 'rt'))"
   ]
  },
  {
   "cell_type": "code",
   "execution_count": 4,
   "id": "62a82619",
   "metadata": {},
   "outputs": [
    {
     "data": {
      "text/plain": [
       "30"
      ]
     },
     "execution_count": 4,
     "metadata": {},
     "output_type": "execute_result"
    }
   ],
   "source": [
    "fh = open(output_fn, 'wt')\n",
    "csv_writer = csv.writer(fh)\n",
    "\n",
    "# write headers\n",
    "csv_writer.writerow([\"line\", \"sentence\", \"contains\", \"index\"])"
   ]
  },
  {
   "cell_type": "code",
   "execution_count": 5,
   "id": "a4a6cbba",
   "metadata": {},
   "outputs": [],
   "source": [
    "regex =\"([\\w]{4,15}, ){2,}[\\w]{4,15}(,)?\\s(and|or)\\s\""
   ]
  },
  {
   "cell_type": "code",
   "execution_count": 6,
   "id": "a56149f5",
   "metadata": {},
   "outputs": [
    {
     "data": {
      "application/vnd.jupyter.widget-view+json": {
       "model_id": "2da73256b9d24a449264da13b61d5c23",
       "version_major": 2,
       "version_minor": 0
      },
      "text/plain": [
       "  0%|          | 0/20000 [00:00<?, ?it/s]"
      ]
     },
     "metadata": {},
     "output_type": "display_data"
    }
   ],
   "source": [
    "for i, line in tqdm(enumerate(data_train), total=len(data_train)):\n",
    "    tokenized_line = sent_tokenize(re.sub('\\n', ' ', json.loads(line)[\"text\"]))\n",
    "    \n",
    "    # maximize the context\n",
    "    for j in range(len(tokenized_line)-1, -1, -1):\n",
    "        result = re.search(regex, tokenized_line[j])\n",
    "        \n",
    "        if result != None:\n",
    "            index = result.span()[1]\n",
    "            \n",
    "            if result.group(3) == \"and\":\n",
    "                index -= 6 \n",
    "            else:\n",
    "                index -= 5\n",
    "                \n",
    "            #This is so that our index is always at the position that is supposed to be the comma (for non oxford, this is the space)\n",
    "            has_oxford = result.group(2) == ','\n",
    "            if not has_oxford:\n",
    "                index += 1\n",
    "            \n",
    "            context = ' '.join(tokenized_line[:j])\n",
    "            context = context[-max_context_len:]  \n",
    "            line_with_context = context + ' ' + tokenized_line[j]\n",
    "            \n",
    "            csv_writer.writerow([i, line_with_context, has_oxford, len(context) + 1 + index])\n",
    "        \n",
    "            # to go to next pile example\n",
    "            break"
   ]
  },
  {
   "cell_type": "code",
   "execution_count": 7,
   "id": "ab455f85",
   "metadata": {},
   "outputs": [],
   "source": [
    "fh.close()"
   ]
  },
  {
   "cell_type": "code",
   "execution_count": 12,
   "id": "317a56ec",
   "metadata": {},
   "outputs": [
    {
     "data": {
      "text/plain": [
       "(1152,\n",
       " '     Health                              Vitek 2             [14](#ccr32374-bib-0014){ref-type=\"ref\"}   Unknown   Unknown   Septicemia      Unknown                             PCR                 [15](#ccr32374-bib-0015){ref-type=\"ref\"}  John Wiley & Sons, Ltd  The studies show that a combination therapy with vancomycin, tetracycline, and the third‐generation cephalosporins is a reliable therapeutic regimen for endocarditis and septicemia infections. [13](#ccr32374-bib-0013){ref-type=\"ref\"} Meanwhile, antibiotics such as vancomycin, the third‐generation cephalosporins, imipenem, meropenem, amikacin are very effective on brain abscesses and CNS infections caused by this bacterium. [5](#ccr32374-bib-0005){ref-type=\"ref\"}, [10](#ccr32374-bib-0010){ref-type=\"ref\"}, [12](#ccr32374-bib-0012){ref-type=\"ref\"}  4. CONCLUSION {#ccr32374-sec-0004} =============  The current study demonstrates the seventh clinical case report about *S\\xa0pluranimalium* infection isolated from the neonatal septicemia. Based on the results of present study and the previous studies, it seems that the *S\\xa0pluranimalium* included in vancomycin, carbapenems, aminoglycosides, and 3rd generation cephalosporins performs as an opportunistic pathogen, and also the appropriate therapeutic regimen for the infections caused by this bacterium.')"
      ]
     },
     "execution_count": 12,
     "metadata": {},
     "output_type": "execute_result"
    }
   ],
   "source": [
    "len(context) + index, line_with_context"
   ]
  }
 ],
 "metadata": {
  "celltoolbar": "Tags",
  "kernelspec": {
   "display_name": "Python 3 (ipykernel)",
   "language": "python",
   "name": "python3"
  },
  "language_info": {
   "codemirror_mode": {
    "name": "ipython",
    "version": 3
   },
   "file_extension": ".py",
   "mimetype": "text/x-python",
   "name": "python",
   "nbconvert_exporter": "python",
   "pygments_lexer": "ipython3",
   "version": "3.10.11"
  }
 },
 "nbformat": 4,
 "nbformat_minor": 5
}
