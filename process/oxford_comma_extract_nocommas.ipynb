{
 "cells": [
  {
   "cell_type": "code",
   "execution_count": 1,
   "id": "db899766",
   "metadata": {},
   "outputs": [],
   "source": [
    "import json\n",
    "import os\n",
    "import gzip\n",
    "from nltk.tokenize import sent_tokenize\n",
    "import re\n",
    "import csv\n",
    "from tqdm.notebook import tqdm"
   ]
  },
  {
   "cell_type": "code",
   "execution_count": 2,
   "id": "d87abe68",
   "metadata": {
    "tags": [
     "parameters"
    ]
   },
   "outputs": [],
   "source": [
    "input_fn = '../data/heads/head_00.jsonl.gz'\n",
    "output_fn = '../out/oxford_comma/head_train_nocommas_extract.csv'\n",
    "max_context_len = 1000"
   ]
  },
  {
   "cell_type": "code",
   "execution_count": 3,
   "id": "ea34f7f2",
   "metadata": {},
   "outputs": [],
   "source": [
    "data_train = list(gzip.open(input_fn, 'rt'))"
   ]
  },
  {
   "cell_type": "code",
   "execution_count": 4,
   "id": "62a82619",
   "metadata": {},
   "outputs": [
    {
     "data": {
      "text/plain": [
       "30"
      ]
     },
     "execution_count": 4,
     "metadata": {},
     "output_type": "execute_result"
    }
   ],
   "source": [
    "fh = open(output_fn, 'wt')\n",
    "csv_writer = csv.writer(fh)\n",
    "\n",
    "# write headers\n",
    "csv_writer.writerow([\"line\", \"sentence\", \"contains\", \"index\"])"
   ]
  },
  {
   "cell_type": "code",
   "execution_count": 5,
   "id": "a4a6cbba",
   "metadata": {},
   "outputs": [],
   "source": [
    "regex =\"([\\w]{4,15}, ){2,}[\\w]{4,15}(,)?\\s(and|or)\\s\""
   ]
  },
  {
   "cell_type": "code",
   "execution_count": 6,
   "id": "a56149f5",
   "metadata": {},
   "outputs": [
    {
     "data": {
      "application/vnd.jupyter.widget-view+json": {
       "model_id": "5120dbd49a0b4c398ec7a038a3c51854",
       "version_major": 2,
       "version_minor": 0
      },
      "text/plain": [
       "  0%|          | 0/20000 [00:00<?, ?it/s]"
      ]
     },
     "metadata": {},
     "output_type": "display_data"
    }
   ],
   "source": [
    "for i, line in tqdm(enumerate(data_train), total=len(data_train)):\n",
    "    tokenized_line = sent_tokenize(re.sub('\\n', ' ', json.loads(line)[\"text\"]))\n",
    "    \n",
    "    # maximize the context\n",
    "    for j in range(len(tokenized_line)-1, -1, -1):\n",
    "        result = re.search(regex, tokenized_line[j])\n",
    "        \n",
    "        if result != None:\n",
    "            index = result.span()[1]\n",
    "            \n",
    "            if result.group(3) == \"and\":\n",
    "                index -= 6 \n",
    "            else:\n",
    "                index -= 5\n",
    "                \n",
    "            #This is so that our index is always at the position that is supposed to be the comma (for non oxford, this is the space)\n",
    "            has_oxford = result.group(2) == ','\n",
    "            if not has_oxford:\n",
    "                index += 1\n",
    "            \n",
    "            context = ' '.join(tokenized_line[:j])\n",
    "            context = context.replace(',', '')\n",
    "            context = context[-max_context_len:]  \n",
    "            line_with_context = context + ' ' + tokenized_line[j]\n",
    "            \n",
    "            csv_writer.writerow([i, line_with_context, has_oxford, len(context) + 1 + index])\n",
    "        \n",
    "            # to go to next pile example\n",
    "            break"
   ]
  },
  {
   "cell_type": "code",
   "execution_count": 7,
   "id": "ab455f85",
   "metadata": {},
   "outputs": [],
   "source": [
    "fh.close()"
   ]
  },
  {
   "cell_type": "code",
   "execution_count": 8,
   "id": "317a56ec",
   "metadata": {},
   "outputs": [
    {
     "data": {
      "text/plain": [
       "(744,\n",
       " 'A U.S. Army Reserve colonel is accused of punching his 12-year-old son several times in the face in a restaurant parking lot according to court documents. Terry Dione Lindon 51 of Fayetteville was charged by Fayetteville police with misdemeanor child abuse in March. He is scheduled to appear in Cumberland County District Court next week. Lindon did not return a request for comment. Lindon is in the process of retiring from the Army according to officials. He was most recently a civil affairs colonel assigned to the John F. Kennedy Special Warfare Center and School at Fort Bragg according to Army Human Resources Command. The Special Warfare Center and School, the Army’s Special Operations Center of Excellence, trains, educates, develops and manages civil affairs, psychological operations and Special Forces soldiers and leaders.')"
      ]
     },
     "execution_count": 8,
     "metadata": {},
     "output_type": "execute_result"
    }
   ],
   "source": [
    "len(context) + index, line_with_context"
   ]
  }
 ],
 "metadata": {
  "celltoolbar": "Tags",
  "kernelspec": {
   "display_name": "Python 3 (ipykernel)",
   "language": "python",
   "name": "python3"
  },
  "language_info": {
   "codemirror_mode": {
    "name": "ipython",
    "version": 3
   },
   "file_extension": ".py",
   "mimetype": "text/x-python",
   "name": "python",
   "nbconvert_exporter": "python",
   "pygments_lexer": "ipython3",
   "version": "3.10.11"
  }
 },
 "nbformat": 4,
 "nbformat_minor": 5
}
