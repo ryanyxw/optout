{
 "cells": [
  {
   "cell_type": "code",
   "execution_count": 1,
   "id": "f8bab71b",
   "metadata": {},
   "outputs": [],
   "source": [
    "from tqdm import tqdm\n",
    "import csv\n",
    "\n",
    "import torch\n",
    "from transformers import AutoModelForCausalLM, AutoTokenizer"
   ]
  },
  {
   "cell_type": "code",
   "execution_count": 9,
   "id": "1ecf1c79",
   "metadata": {},
   "outputs": [],
   "source": [
    "device = 'cuda'\n",
    "model_name = 'EleutherAI/gpt-j-6B'\n",
    "model_precision = \"float16\"\n",
    "target_token_idx = 11\n",
    "max_length = 2048\n",
    "input_fn = '../out/oxford_comma/head_train_nocommas_extract.csv'\n",
    "output_fn = '../out/oxford_comma/head_train_nocommas_scored.csv'"
   ]
  },
  {
   "cell_type": "code",
   "execution_count": 3,
   "id": "4c1e2d94",
   "metadata": {},
   "outputs": [],
   "source": [
    "tokenizer = AutoTokenizer.from_pretrained(model_name, truncation_side='left')\n",
    "if model_precision == \"float16\":\n",
    "    model = AutoModelForCausalLM.from_pretrained(model_name, revision=\"float16\", torch_dtype=torch.float16,\n",
    "                                                 return_dict=True).to(device)\n",
    "else:\n",
    "    model = AutoModelForCausalLM.from_pretrained(model_name, return_dict=True).to(device)"
   ]
  },
  {
   "cell_type": "code",
   "execution_count": 10,
   "id": "fe596e04",
   "metadata": {},
   "outputs": [],
   "source": [
    "in_data = list(csv.reader(open(input_fn, 'rt')))\n",
    "header = in_data[0]\n",
    "in_data = in_data[1:]"
   ]
  },
  {
   "cell_type": "code",
   "execution_count": 11,
   "id": "2113cdf3",
   "metadata": {},
   "outputs": [],
   "source": [
    "out_fh = open(output_fn, 'wt')\n",
    "out = csv.writer(out_fh)"
   ]
  },
  {
   "cell_type": "code",
   "execution_count": 12,
   "id": "ae1cef3b",
   "metadata": {},
   "outputs": [
    {
     "name": "stderr",
     "output_type": "stream",
     "text": [
      "100%|██████████████████████████████████████████████████████████████████████████████████████████████| 2106/2106 [02:32<00:00, 13.77it/s]\n"
     ]
    }
   ],
   "source": [
    "for i, line in tqdm(enumerate(in_data), total=len(in_data)):\n",
    "    line_idx, sentence, contains, char_idx = line\n",
    "    contains, char_idx = contains == 'True', int(char_idx)\n",
    "\n",
    "    prefix = sentence[:char_idx]\n",
    "    input_ids = tokenizer.encode(prefix, \\\n",
    "                                 return_tensors='pt', \\\n",
    "                                 max_length=max_length, \\\n",
    "                                 padding=False).to(device)\n",
    "    # i checked, it is left truncate\n",
    "\n",
    "    with torch.no_grad():\n",
    "        model.eval()\n",
    "        outputs = model(input_ids, labels=input_ids)\n",
    "        loss = outputs.loss\n",
    "        logits = outputs.logits\n",
    "\n",
    "    # Get the loss at each token\n",
    "    last_logits = logits[..., -1, :].contiguous().squeeze(0)\n",
    "    probs = torch.nn.Softmax(dim=-1)(last_logits)\n",
    "\n",
    "    # comma_idx = 11\n",
    "    final_prob = probs[target_token_idx]\n",
    "\n",
    "    out.writerow([line_idx, input_ids.shape[1], contains, final_prob.item(), probs.argmax().item()])"
   ]
  },
  {
   "cell_type": "code",
   "execution_count": 13,
   "id": "ec3d3a80",
   "metadata": {},
   "outputs": [],
   "source": [
    "out_fh.close()"
   ]
  },
  {
   "cell_type": "code",
   "execution_count": null,
   "id": "b84b6602",
   "metadata": {},
   "outputs": [],
   "source": []
  }
 ],
 "metadata": {
  "kernelspec": {
   "display_name": "Python 3 (ipykernel)",
   "language": "python",
   "name": "python3"
  },
  "language_info": {
   "codemirror_mode": {
    "name": "ipython",
    "version": 3
   },
   "file_extension": ".py",
   "mimetype": "text/x-python",
   "name": "python",
   "nbconvert_exporter": "python",
   "pygments_lexer": "ipython3",
   "version": "3.10.11"
  }
 },
 "nbformat": 4,
 "nbformat_minor": 5
}
