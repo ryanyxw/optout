{
 "cells": [
  {
   "cell_type": "code",
   "execution_count": 1,
   "id": "db899766",
   "metadata": {},
   "outputs": [],
   "source": [
    "import json\n",
    "import os\n",
    "import gzip\n",
    "from nltk.tokenize import sent_tokenize\n",
    "import re\n",
    "import csv\n",
    "from tqdm.notebook import tqdm"
   ]
  },
  {
   "cell_type": "code",
   "execution_count": 2,
   "id": "d87abe68",
   "metadata": {
    "tags": [
     "parameters"
    ]
   },
   "outputs": [],
   "source": [
    "input_fn = '../data/heads/bighead_test.jsonl.gz'\n",
    "output_fn = '../out/bighead/zero_that/test_extract.csv'\n",
    "max_context_len = 1000"
   ]
  },
  {
   "cell_type": "code",
   "execution_count": 3,
   "id": "ea34f7f2",
   "metadata": {},
   "outputs": [],
   "source": [
    "data_train = list(gzip.open(input_fn, 'rt'))"
   ]
  },
  {
   "cell_type": "code",
   "execution_count": 4,
   "id": "62a82619",
   "metadata": {},
   "outputs": [
    {
     "data": {
      "text/plain": [
       "30"
      ]
     },
     "execution_count": 4,
     "metadata": {},
     "output_type": "execute_result"
    }
   ],
   "source": [
    "fh = open(output_fn, 'wt')\n",
    "csv_writer = csv.writer(fh)\n",
    "\n",
    "# write headers\n",
    "csv_writer.writerow([\"line\", \"sentence\", \"contains\", \"index\"])"
   ]
  },
  {
   "cell_type": "code",
   "execution_count": 5,
   "id": "a4a6cbba",
   "metadata": {},
   "outputs": [],
   "source": [
    "regex =\"((I|you|You|he|He) (think|thinks)) (that)?[\\w ]{12}\""
   ]
  },
  {
   "cell_type": "code",
   "execution_count": 6,
   "id": "a56149f5",
   "metadata": {},
   "outputs": [
    {
     "data": {
      "application/vnd.jupyter.widget-view+json": {
       "model_id": "8d4ebf16cae943fd8db4d5118a6fa2fe",
       "version_major": 2,
       "version_minor": 0
      },
      "text/plain": [
       "  0%|          | 0/214584 [00:00<?, ?it/s]"
      ]
     },
     "metadata": {},
     "output_type": "display_data"
    }
   ],
   "source": [
    "for i, line in tqdm(enumerate(data_train), total=len(data_train)):\n",
    "    tokenized_line = sent_tokenize(re.sub('\\n', ' ', json.loads(line)[\"text\"]))\n",
    "    \n",
    "    # maximize the context\n",
    "    for j in range(len(tokenized_line)-1, -1, -1):\n",
    "        result = re.search(regex, tokenized_line[j])\n",
    "        \n",
    "        if result != None:\n",
    "            index = result.span()[1]\n",
    "            \n",
    "            has_that = result.group(4) == \"that\"\n",
    "            offset = 17\n",
    "            index = result.span()[1] - offset\n",
    "            \n",
    "            if not has_that:\n",
    "                index += 4\n",
    "            \n",
    "            context = ' '.join(tokenized_line[:j])\n",
    "            context = context[-max_context_len:]  \n",
    "            line_with_context = context + ' ' + tokenized_line[j]\n",
    "            \n",
    "            csv_writer.writerow([i, line_with_context, has_that, len(context) + 1 + index])\n",
    "        \n",
    "            # to go to next pile example\n",
    "            break"
   ]
  },
  {
   "cell_type": "code",
   "execution_count": 7,
   "id": "ab455f85",
   "metadata": {},
   "outputs": [],
   "source": [
    "fh.close()"
   ]
  },
  {
   "cell_type": "code",
   "execution_count": 8,
   "id": "317a56ec",
   "metadata": {},
   "outputs": [
    {
     "data": {
      "text/plain": [
       "('en, we decided to take a look at what chat programs we could use that would respect our privacy. Unfortunately, at the time, all other existing implementations were either too convoluted to convince our friends to use or were proprietary, so we decided that Tox was a necessary project. How are people using it? Right now, people are using Tox to talk with their family in a more secure way than what other big-name, proprietary competitors offer. People from all over the world are joining group chats to talk about their favorite hobbies, and friends are getting together to discuss weekend plans. We even have plugins that allow for Tox-to-IRC and vice versa conversations. Audio calling is available in a select few clients right now, so people are even using Tox to perhaps speak with one another while they play a video game. Tox itself is a protocol, so it can be adapted to anything you can imagine. Some people have even used Tox as a file sync, safely synchronizing between their computers. What features do you thin',\n",
       " 'k really sets Tox apart from similar software?')"
      ]
     },
     "execution_count": 8,
     "metadata": {},
     "output_type": "execute_result"
    }
   ],
   "source": [
    "i = len(context) + index\n",
    "line_with_context[:i], line_with_context[i:]"
   ]
  }
 ],
 "metadata": {
  "celltoolbar": "Tags",
  "kernelspec": {
   "display_name": "Python 3 (ipykernel)",
   "language": "python",
   "name": "python3"
  },
  "language_info": {
   "codemirror_mode": {
    "name": "ipython",
    "version": 3
   },
   "file_extension": ".py",
   "mimetype": "text/x-python",
   "name": "python",
   "nbconvert_exporter": "python",
   "pygments_lexer": "ipython3",
   "version": "3.10.11"
  }
 },
 "nbformat": 4,
 "nbformat_minor": 5
}
