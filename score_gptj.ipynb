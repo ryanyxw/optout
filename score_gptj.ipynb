{
 "cells": [
  {
   "cell_type": "code",
   "execution_count": 1,
   "id": "effd3006",
   "metadata": {},
   "outputs": [],
   "source": [
    "import json\n",
    "import gzip\n",
    "import csv\n",
    "import sys\n",
    "import numpy as np\n",
    "from tqdm.notebook import tqdm\n",
    "\n",
    "import torch\n",
    "from torch.utils.data import DataLoader\n",
    "from transformers import AutoModelForCausalLM, AutoTokenizer"
   ]
  },
  {
   "cell_type": "code",
   "execution_count": 2,
   "id": "e5c84490",
   "metadata": {},
   "outputs": [],
   "source": [
    "device = 'cuda'\n",
    "float16 = True\n",
    "max_length = 100\n",
    "\n",
    "input_fn = \"Oxford_Comma_Data/train_oxford.csv\"\n",
    "output_fn = \"Oxford_Comma_Data/output:train_oxford.csv\""
   ]
  },
  {
   "cell_type": "code",
   "execution_count": 3,
   "id": "03a87870",
   "metadata": {},
   "outputs": [],
   "source": [
    "model_name = 'EleutherAI/gpt-j-6B'\n",
    "tokenizer = AutoTokenizer.from_pretrained(model_name)\n",
    "\n",
    "if float16:\n",
    "    model = AutoModelForCausalLM.from_pretrained(model_name, revision=\"float16\", torch_dtype=torch.float16, return_dict=True).to(device)\n",
    "else:\n",
    "    model = AutoModelForCausalLM.from_pretrained(model_name, return_dict=True).to(device)"
   ]
  },
  {
   "cell_type": "code",
   "execution_count": 4,
   "id": "a333b664",
   "metadata": {},
   "outputs": [],
   "source": [
    "in_data = list(csv.reader(open(input_fn, 'rt')))\n",
    "header = in_data[0]\n",
    "in_data = in_data[1:]"
   ]
  },
  {
   "cell_type": "code",
   "execution_count": 5,
   "id": "4347241c",
   "metadata": {},
   "outputs": [
    {
     "data": {
      "text/plain": [
       "['0',\n",
       " 'I used FDT and Starling creating an Adobe AIR (ActionScript) project, all tools or frameworks I already had some knowledge with.',\n",
       " 'False',\n",
       " '79']"
      ]
     },
     "execution_count": 5,
     "metadata": {},
     "output_type": "execute_result"
    }
   ],
   "source": [
    "in_data[0]"
   ]
  },
  {
   "cell_type": "code",
   "execution_count": 6,
   "id": "9914076a",
   "metadata": {},
   "outputs": [],
   "source": [
    "out_fh = open(output_fn, 'wt')\n",
    "out = csv.writer(out_fh)"
   ]
  },
  {
   "cell_type": "code",
   "execution_count": 7,
   "id": "d9a4c718",
   "metadata": {},
   "outputs": [
    {
     "data": {
      "application/vnd.jupyter.widget-view+json": {
       "model_id": "6cd9d1dcfcf049d6a694a33a6aafb04e",
       "version_major": 2,
       "version_minor": 0
      },
      "text/plain": [
       "  0%|          | 0/13082 [00:00<?, ?it/s]"
      ]
     },
     "metadata": {},
     "output_type": "display_data"
    },
    {
     "name": "stderr",
     "output_type": "stream",
     "text": [
      "Truncation was not explicitly activated but `max_length` is provided a specific value, please use `truncation=True` to explicitly truncate examples to max length. Defaulting to 'longest_first' truncation strategy. If you encode pairs of sequences (GLUE-style) with the tokenizer you can select this strategy more precisely by providing a specific strategy to `truncation`.\n"
     ]
    }
   ],
   "source": [
    "for i, line in tqdm(enumerate(in_data), total=len(in_data)):\n",
    "    line_idx, sentence, contains, char_idx = line\n",
    "    contains, char_idx = contains == 'True', int(char_idx)\n",
    "\n",
    "    prefix = sentence[:char_idx]\n",
    "    input_ids = tokenizer.encode(prefix, \\\n",
    "                                 return_tensors='pt', \\\n",
    "                                 padding=False, \\\n",
    "                                 max_length=max_length \\\n",
    "                                ).to(device)\n",
    "\n",
    "    \n",
    "    # Evaluate the loss of the sequence with the GPT-2 model\n",
    "    with torch.no_grad():\n",
    "        model.eval()\n",
    "        outputs = model(input_ids, labels=input_ids)\n",
    "        loss = outputs.loss\n",
    "        logits = outputs.logits\n",
    "\n",
    "    # Get the loss at each token\n",
    "    last_logits = logits[...,-1,:].contiguous().squeeze(0)\n",
    "    probs = torch.nn.Softmax(dim=-1)(last_logits)\n",
    "\n",
    "    \n",
    "    comma_idx = 11 #tokenizer.encode(',') no leading white space\n",
    "    comma_prob = probs[comma_idx]\n",
    "    \n",
    "    \n",
    "    if False:\n",
    "        print(contains)\n",
    "        print(sentence)\n",
    "        print(prefix)\n",
    "        print(input_ids)\n",
    "        print(comma_prob)\n",
    "        print()\n",
    "        \n",
    "        if i == 3:\n",
    "            break\n",
    "            \n",
    "    out.writerow([i, prefix, contains, comma_prob.item()])"
   ]
  },
  {
   "cell_type": "code",
   "execution_count": 8,
   "id": "443bdc8d",
   "metadata": {},
   "outputs": [],
   "source": [
    "out_fh.close()"
   ]
  },
  {
   "cell_type": "code",
   "execution_count": 9,
   "id": "bddceb98",
   "metadata": {},
   "outputs": [
    {
     "data": {
      "text/plain": [
       "[464,\n",
       " 25041,\n",
       " 12,\n",
       " 17078,\n",
       " 14712,\n",
       " 87,\n",
       " 520,\n",
       " 540,\n",
       " 14624,\n",
       " 318,\n",
       " 3748,\n",
       " 329,\n",
       " 3230,\n",
       " 816,\n",
       " 47912,\n",
       " 11,\n",
       " 290,\n",
       " 4394,\n",
       " 5443,\n",
       " 11]"
      ]
     },
     "execution_count": 9,
     "metadata": {},
     "output_type": "execute_result"
    }
   ],
   "source": [
    "tokenizer.encode('The stellar-backed Wirex Stablecoins is unique for international remittance, and offers faster,')"
   ]
  }
 ],
 "metadata": {
  "celltoolbar": "Tags",
  "kernelspec": {
   "display_name": "Python 3 (ipykernel)",
   "language": "python",
   "name": "python3"
  },
  "language_info": {
   "codemirror_mode": {
    "name": "ipython",
    "version": 3
   },
   "file_extension": ".py",
   "mimetype": "text/x-python",
   "name": "python",
   "nbconvert_exporter": "python",
   "pygments_lexer": "ipython3",
   "version": "3.10.11"
  }
 },
 "nbformat": 4,
 "nbformat_minor": 5
}
